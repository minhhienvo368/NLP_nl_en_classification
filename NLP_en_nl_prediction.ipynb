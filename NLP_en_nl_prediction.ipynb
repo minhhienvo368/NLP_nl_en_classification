{
 "cells": [
  {
   "cell_type": "code",
   "execution_count": 1,
   "id": "b756c2f5",
   "metadata": {},
   "outputs": [],
   "source": [
    "#Import libraries\n",
    "import numpy as np \n",
    "import pandas as pd \n",
    "import string\n",
    "from sklearn.model_selection import train_test_split\n",
    "import matplotlib.pyplot as plt\n"
   ]
  },
  {
   "cell_type": "code",
   "execution_count": 2,
   "id": "99cafc7f",
   "metadata": {},
   "outputs": [],
   "source": [
    "file_path = 'assets/text_train.txt'\n",
    "def read_data(filepath):\n",
    "    \"\"\"reads given txt file into a pandas dataframe and returns it\"\"\"\n",
    "    return pd.read_csv(file_path, sep='|', names=['label', 'message'])\n",
    "\n",
    "df = read_data(file_path)"
   ]
  },
  {
   "cell_type": "code",
   "execution_count": 3,
   "id": "8366c077",
   "metadata": {},
   "outputs": [
    {
     "data": {
      "text/plain": [
       "nl    535\n",
       "en    534\n",
       "Name: label, dtype: int64"
      ]
     },
     "execution_count": 3,
     "metadata": {},
     "output_type": "execute_result"
    }
   ],
   "source": [
    "df.label.value_counts()"
   ]
  },
  {
   "cell_type": "code",
   "execution_count": null,
   "id": "80148788",
   "metadata": {},
   "outputs": [],
   "source": [
    "df.head(80)"
   ]
  },
  {
   "cell_type": "code",
   "execution_count": null,
   "id": "64dc178e",
   "metadata": {},
   "outputs": [],
   "source": [
    "df.tail(10)"
   ]
  },
  {
   "cell_type": "code",
   "execution_count": 4,
   "id": "e08e6b56",
   "metadata": {},
   "outputs": [],
   "source": [
    "def clean_message(msg):\n",
    "    \"\"\"removes punctuation from given msg and returns a list of its words\"\"\"\n",
    "    clean_msg = [word for word in msg if word not in string.punctuation]\n",
    "    clean_msg = ''.join(clean_msg)\n",
    "    clean_msg_arr = clean_msg.split(' ')\n",
    "    return [x for x in clean_msg_arr if x.isalpha()]  # exclude numbers/symbols\n"
   ]
  },
  {
   "cell_type": "code",
   "execution_count": 5,
   "id": "28b06df7",
   "metadata": {},
   "outputs": [],
   "source": [
    "df.message = df.message.apply(lambda txt: clean_message(txt))"
   ]
  },
  {
   "cell_type": "code",
   "execution_count": 6,
   "id": "edc3efda",
   "metadata": {},
   "outputs": [
    {
     "name": "stdout",
     "output_type": "stream",
     "text": [
      "Number of Dutch messages: 535\n",
      "Number of English messages: 534\n"
     ]
    }
   ],
   "source": [
    "print(f'Number of Dutch messages: {sum(df[\"label\"] == \"nl\")}')\n",
    "print(f'Number of English messages: {sum(df[\"label\"] == \"en\")}')"
   ]
  },
  {
   "cell_type": "code",
   "execution_count": 7,
   "id": "d3a30348",
   "metadata": {},
   "outputs": [
    {
     "name": "stdout",
     "output_type": "stream",
     "text": [
      "Plotting histogram of text length by text language...\n",
      "Saved plot to txt_len_hist.png\n"
     ]
    },
    {
     "data": {
      "text/plain": [
       "<Figure size 432x288 with 0 Axes>"
      ]
     },
     "metadata": {},
     "output_type": "display_data"
    },
    {
     "data": {
      "image/png": "[encoded data removed]",
      "text/plain": [
       "<Figure size 864x288 with 2 Axes>"
      ]
     },
     "metadata": {
      "needs_background": "light"
     },
     "output_type": "display_data"
    }
   ],
   "source": [
    "#generate word count (length) col\n",
    "df['length'] = df['message'].apply(len)\n",
    "\n",
    "# plots text length histogram\n",
    "print('Plotting histogram of text length by text language...')\n",
    "fig = plt.figure()\n",
    "df.hist(column='length', by='label', bins=50, figsize=(12, 4))\n",
    "plt.savefig('txt_len_hist.png')\n",
    "print('Saved plot to txt_len_hist.png')"
   ]
  },
  {
   "cell_type": "code",
   "execution_count": null,
   "id": "d203b366",
   "metadata": {},
   "outputs": [],
   "source": [
    "df.head()"
   ]
  },
  {
   "cell_type": "markdown",
   "id": "6e1634ab",
   "metadata": {},
   "source": [
    "## Modeling"
   ]
  },
  {
   "cell_type": "code",
   "execution_count": 8,
   "id": "ca545469",
   "metadata": {},
   "outputs": [],
   "source": [
    "from sklearn.feature_extraction.text import CountVectorizer\n",
    "from sklearn.feature_extraction.text import TfidfTransformer\n",
    "from sklearn.naive_bayes import MultinomialNB\n",
    "from sklearn.ensemble import RandomForestClassifier\n",
    "from sklearn.pipeline import Pipeline\n",
    "from sklearn.metrics import accuracy_score, confusion_matrix\n",
    "\n",
    "\n",
    "def read_data(filename):\n",
    "    \"\"\"reads given txt file into a pandas dataframe and returns it\"\"\"\n",
    "    return pd.read_csv(filename, sep='|', names=['label', 'message'])\n",
    "\n",
    "\n",
    "def split_data(df):\n",
    "    \"\"\"\n",
    "    splits data and returns training and testing sets for x and y\n",
    "    return in the order of: x_train, x_test, y_train, y_test\n",
    "    \"\"\"\n",
    "    feature, target = df['message'], df['label']\n",
    "    return train_test_split(feature, target, test_size=0.2, random_state=42)\n",
    "\n",
    "def predict_label(msg_arr, classifier, X_train, y_train):\n",
    "    \"\"\"\n",
    "    Returns predictions on given array of messages\n",
    "    Given classifier and training data\n",
    "    \"\"\"\n",
    "    # passes a list of steps into sklearn pipeline\n",
    "    pipeline = Pipeline([\n",
    "        # vectorizes tokens into numerical data using bag-of-words model\n",
    "        ('vectorizer', CountVectorizer(analyzer=clean_message)),\n",
    "        \n",
    "        # computes Term Frequency - Inverse Document Frequency\n",
    "        ('tfidf', TfidfTransformer()),\n",
    "        \n",
    "        # trains the model with given classifier\n",
    "        ('classifier', classifier())\n",
    "    ])\n",
    "\n",
    "    # applies all pipeline steps to the given datasets and returns predictions\n",
    "    pipeline.fit(X_train, y_train)\n",
    "    return pipeline.predict(msg_arr)\n",
    "\n",
    "\n",
    "def output_results(y_test, predictions):\n",
    "    \"\"\"Outputs metrics to terminal based on given test data and predictions\"\"\"\n",
    "    accuracy = accuracy_score(y_test, predictions)\n",
    "    tn, fp, fn, tp = confusion_matrix(y_test, predictions).ravel()\n",
    "    print(f'Accuracy: {round(accuracy * 100, 2)}%')\n",
    "    print(f'True Positives: {tp}')\n",
    "    print(f'False Positives: {fp}')\n",
    "    print(f'False Negatives: {fn}')\n",
    "    print(f'True Negatives: {tn}')\n",
    "    print(f'True Positive Rate: {tp / (tp + fn)}')\n",
    "    print(f'True Negative Rate: {tn / (tn + fp)}')\n"
   ]
  },
  {
   "cell_type": "code",
   "execution_count": 9,
   "id": "2b31e28e",
   "metadata": {},
   "outputs": [
    {
     "name": "stdout",
     "output_type": "stream",
     "text": [
      "Results for Naive Bayes classifier:\n",
      "Accuracy: 100.0%\n",
      "True Positives: 114\n",
      "False Positives: 0\n",
      "False Negatives: 0\n",
      "True Negatives: 100\n",
      "True Positive Rate: 1.0\n",
      "True Negative Rate: 1.0\n",
      "\n",
      "Results for Random Forest classifier:\n",
      "Accuracy: 100.0%\n",
      "True Positives: 114\n",
      "False Positives: 0\n",
      "False Negatives: 0\n",
      "True Negatives: 100\n",
      "True Positive Rate: 1.0\n",
      "True Negative Rate: 1.0\n"
     ]
    }
   ],
   "source": [
    "if __name__ == '__main__':\n",
    "    try:\n",
    "        df = read_data('assets/text_train.txt')\n",
    "\n",
    "        # splits data between train and test\n",
    "        X_train, X_test, y_train, y_test = split_data(df)                      #call function\n",
    "\n",
    "        \n",
    "        # predicts with Naive Bayes classifier and output results to terminal\n",
    "        nb_pred = predict_label(X_test, MultinomialNB, X_train, y_train)        #call function\n",
    "        print('Results for Naive Bayes classifier:')\n",
    "        output_results(y_test, nb_pred)                                         #call function\n",
    "\n",
    "        print()\n",
    "\n",
    "        # predicts with Random Forest classifier and output results to terminal\n",
    "        rf_pred = predict_label(X_test, RandomForestClassifier,\n",
    "                                X_train, y_train)\n",
    "        print('Results for Random Forest classifier:')\n",
    "        output_results(y_test, rf_pred)\n",
    "\n",
    "    except Exception as e:\n",
    "        print(f'could not execute script: {e}')\n"
   ]
  },
  {
   "cell_type": "code",
   "execution_count": 10,
   "id": "7d6271ef",
   "metadata": {},
   "outputs": [
    {
     "data": {
      "text/plain": [
       "MultinomialNB()"
      ]
     },
     "execution_count": 10,
     "metadata": {},
     "output_type": "execute_result"
    }
   ],
   "source": [
    "# initiate vectorizer\n",
    "\n",
    "vectorizer = CountVectorizer()\n",
    "vector = vectorizer.fit_transform(X_train)\n",
    "# build the model - Naive Bayes classifier\n",
    "\n",
    "clf = MultinomialNB()\n",
    "clf.fit(vector, y_train)\n"
   ]
  },
  {
   "cell_type": "code",
   "execution_count": 11,
   "id": "7b8ee25f",
   "metadata": {},
   "outputs": [],
   "source": [
    "# make prediction\n",
    "vector_test = vectorizer.transform(X_test)\n",
    "y_pred1 = clf.predict(vector_test)"
   ]
  },
  {
   "cell_type": "code",
   "execution_count": 12,
   "id": "c8c96f0a",
   "metadata": {},
   "outputs": [
    {
     "name": "stdout",
     "output_type": "stream",
     "text": [
      "Total accuracy classification score: 1.0\n"
     ]
    }
   ],
   "source": [
    "from sklearn import metrics\n",
    "acc_score = metrics.accuracy_score(y_test, y_pred1)\n",
    "print('Total accuracy classification score: {}'.format(acc_score))"
   ]
  },
  {
   "cell_type": "code",
   "execution_count": null,
   "id": "354d63d8",
   "metadata": {},
   "outputs": [],
   "source": [
    "# compare actual and predicted label\n",
    "def Naive_Bayes_prediction(msg):\n",
    "    msg = vectorizer.transform([msg])\n",
    "    prediction = clf.predict(msg)\n",
    "    return prediction[0]\n",
    "\n",
    "\n",
    "for i in range(240,260,4):\n",
    "    print(df['message'].iloc[i][:100], \"...\")\n",
    "    print(\"Actual label: \", df['label'][i])\n",
    "    print(\"predicted label: \", Naive_Bayes_prediction(df['message'][i]))"
   ]
  },
  {
   "cell_type": "code",
   "execution_count": null,
   "id": "259fa7bb",
   "metadata": {},
   "outputs": [],
   "source": [
    "Naive_Bayes_prediction('Wikipedia is een online encyclopedie die ernaar st')"
   ]
  },
  {
   "cell_type": "code",
   "execution_count": null,
   "id": "c5854a54",
   "metadata": {},
   "outputs": [],
   "source": [
    "# initiate vectorizer\n",
    "\n",
    "vectorizer2 = CountVectorizer()\n",
    "vector2 = vectorizer.fit_transform(X_train)\n",
    "\n",
    "RandomForestClassifier = MultinomialNB()\n",
    "RandomForestClassifier.fit(vector, y_train)\n",
    "\n",
    "def RandomForestClassifier_prediction(msg):\n",
    "    \n",
    "    msg = vectorizer2.transform([msg])\n",
    "    \n",
    "    prediction = RandomForestClassifier.predict(msg)\n",
    "    return prediction[0]"
   ]
  },
  {
   "cell_type": "code",
   "execution_count": null,
   "id": "863be0a4",
   "metadata": {},
   "outputs": [],
   "source": [
    "RandomForestClassifier_prediction('is het weer vandag goed? ')"
   ]
  },
  {
   "cell_type": "code",
   "execution_count": null,
   "id": "323698d0",
   "metadata": {},
   "outputs": [],
   "source": [
    "RandomForestClassifier_prediction('Is the weather today bad?')"
   ]
  },
  {
   "cell_type": "code",
   "execution_count": null,
   "id": "770468e6",
   "metadata": {},
   "outputs": [],
   "source": []
  },
  {
   "cell_type": "code",
   "execution_count": null,
   "id": "c15bc7a8",
   "metadata": {},
   "outputs": [],
   "source": []
  }
 ],
 "metadata": {
  "kernelspec": {
   "display_name": "Python 3",
   "language": "python",
   "name": "python3"
  },
  "language_info": {
   "codemirror_mode": {
    "name": "ipython",
    "version": 3
   },
   "file_extension": ".py",
   "mimetype": "text/x-python",
   "name": "python",
   "nbconvert_exporter": "python",
   "pygments_lexer": "ipython3",
   "version": "3.8.8"
  }
 },
 "nbformat": 4,
 "nbformat_minor": 5
}
